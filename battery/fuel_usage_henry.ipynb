{
 "cells": [
  {
   "cell_type": "code",
   "execution_count": 4,
   "id": "fdfd9b4f-415a-4ce7-81d3-27ae88de4527",
   "metadata": {},
   "outputs": [
    {
     "name": "stdout",
     "output_type": "stream",
     "text": [
      "Total MGO Fuel Used: 310193.88423740724 tonnes\n"
     ]
    }
   ],
   "source": [
    "import pandas as pd\n",
    "\n",
    "filename = 'DE1FlowMeterThing_HMD8310.csv'\n",
    "data = pd.read_csv(filename)\n",
    "\n",
    "# Calculate the volume per minute for in and out flows\n",
    "# Since the data is in cubic meters/h and recorded every minute, we convert this to cubic meters/minute by dividing by 60\n",
    "data['VolumeFlowInPerMinute'] = data['FOVolumeFlowIn'] / 60\n",
    "data['VolumeFlowReturnPerMinute'] = data['FOVolumeFlowReturn'] / 60\n",
    "\n",
    "# Calculate the net consumption per minute\n",
    "data['NetConsumptionPerMinute'] = data['VolumeFlowInPerMinute'] - data['VolumeFlowReturnPerMinute']\n",
    "\n",
    "# Sum up to find the total fuel used\n",
    "total_fuel_used = data['NetConsumptionPerMinute'].sum()\n",
    "\n",
    "# Average density of MGO\n",
    "density_mgo_tonnes_per_m3 = 0.85\n",
    "\n",
    "# Convert volume to mass (tonnes)\n",
    "total_fuel_used_tonnes = total_fuel_used * density_mgo_tonnes_per_m3\n",
    "\n",
    "print(f'Total MGO Fuel Used: {total_fuel_used_tonnes} tonnes')\n",
    "\n"
   ]
  },
  {
   "cell_type": "code",
   "execution_count": 6,
   "id": "0d4268c7-7059-4c16-ad5f-3326c789ea91",
   "metadata": {},
   "outputs": [
    {
     "name": "stderr",
     "output_type": "stream",
     "text": [
      "/tmp/ipykernel_899/1369260557.py:5: DtypeWarning: Columns (54,55,56,57,58,59,60,61,62,63,64,66,67,68,69,72,73,74,75,76,77,78,79,80,88,102,103,104,105,106,116,123) have mixed types. Specify dtype option on import or set low_memory=False.\n",
      "  data = pd.read_csv(filename)\n"
     ]
    },
    {
     "name": "stdout",
     "output_type": "stream",
     "text": [
      "Total LNG Used: 18.366675 metric tons\n"
     ]
    }
   ],
   "source": [
    "filename = 'DE1Thing_HMD8310.csv'\n",
    "data = pd.read_csv(filename)\n",
    "\n",
    "# Convert the mass flow rate from kg/h to kg/minute\n",
    "data['FuelGasMassFlowPerMinute'] = data['FGMassFlow'] / 60\n",
    "\n",
    "# Calculate the total LNG used by summing up the mass flow per minute\n",
    "total_lng_used_kg = data['FuelGasMassFlowPerMinute'].sum()\n",
    "\n",
    "total_lng_used_metric_tons = total_lng_used_kg / 1000\n",
    "\n",
    "print(f'Total LNG Used: {total_lng_used_metric_tons} metric tons')\n"
   ]
  },
  {
   "cell_type": "code",
   "execution_count": 7,
   "id": "98b5990a-acee-4396-b1b2-832b70cf4440",
   "metadata": {},
   "outputs": [
    {
     "name": "stderr",
     "output_type": "stream",
     "text": [
      "/tmp/ipykernel_899/1952725942.py:5: DtypeWarning: Columns (54,55,56,57,58,59,60,61,62,63,64,66,67,68,69,72,73,74,75,76,77,78,79,80,88,102,103,104,114,121) have mixed types. Specify dtype option on import or set low_memory=False.\n",
      "  data = pd.read_csv(filename)\n"
     ]
    },
    {
     "name": "stdout",
     "output_type": "stream",
     "text": [
      "Total LNG Used: 33.525041666666674 metric tons\n"
     ]
    }
   ],
   "source": [
    "filename = 'DE2Thing_HMD8310.csv'\n",
    "data = pd.read_csv(filename)\n",
    "\n",
    "# Convert the mass flow rate from kg/h to kg/minute\n",
    "data['FuelGasMassFlowPerMinute'] = data['FGMassFlow'] / 60\n",
    "\n",
    "# Calculate the total LNG used by summing up the mass flow per minute\n",
    "total_lng_used_kg = data['FuelGasMassFlowPerMinute'].sum()\n",
    "\n",
    "total_lng_used_metric_tons = total_lng_used_kg / 1000\n",
    "\n",
    "print(f'Total LNG Used: {total_lng_used_metric_tons} metric tons')\n"
   ]
  },
  {
   "cell_type": "code",
   "execution_count": null,
   "id": "5fc5104e-ece3-4aaa-912f-ca51d19dc70c",
   "metadata": {},
   "outputs": [],
   "source": []
  }
 ],
 "metadata": {
  "kernelspec": {
   "display_name": "Python 3 (ipykernel)",
   "language": "python",
   "name": "python3"
  },
  "language_info": {
   "codemirror_mode": {
    "name": "ipython",
    "version": 3
   },
   "file_extension": ".py",
   "mimetype": "text/x-python",
   "name": "python",
   "nbconvert_exporter": "python",
   "pygments_lexer": "ipython3",
   "version": "3.10.12"
  }
 },
 "nbformat": 4,
 "nbformat_minor": 5
}
