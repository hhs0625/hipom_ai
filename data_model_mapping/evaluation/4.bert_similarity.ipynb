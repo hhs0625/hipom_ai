{
 "cells": [
  {
   "cell_type": "code",
   "execution_count": 8,
   "metadata": {},
   "outputs": [
    {
     "name": "stdout",
     "output_type": "stream",
     "text": [
      "Using device: cuda\n"
     ]
    },
    {
     "name": "stderr",
     "output_type": "stream",
     "text": [
      "Processing rows: 100%|██████████| 1081/1081 [00:21<00:00, 50.82it/s]"
     ]
    },
    {
     "name": "stdout",
     "output_type": "stream",
     "text": [
      "Updated file saved successfully.\n"
     ]
    },
    {
     "name": "stderr",
     "output_type": "stream",
     "text": [
      "\n",
      "/tmp/ipykernel_1577403/2768539287.py:48: SettingWithCopyWarning: \n",
      "A value is trying to be set on a copy of a slice from a DataFrame.\n",
      "Try using .loc[row_indexer,col_indexer] = value instead\n",
      "\n",
      "See the caveats in the documentation: https://pandas.pydata.org/pandas-docs/stable/user_guide/indexing.html#returning-a-view-versus-a-copy\n",
      "  df_filtered[model_name] = similarities\n"
     ]
    }
   ],
   "source": [
    "import pandas as pd\n",
    "import torch\n",
    "from transformers import BertModel, BertTokenizer\n",
    "from sklearn.metrics.pairwise import cosine_similarity\n",
    "import numpy as np\n",
    "from tqdm import tqdm\n",
    "\n",
    "# Check if GPU is available\n",
    "device = torch.device('cuda' if torch.cuda.is_available() else 'cpu')\n",
    "print(f\"Using device: {device}\")\n",
    "\n",
    "# Load the CSV file\n",
    "file_path = 'test_with_predictions_MPM_desc.csv'\n",
    "df = pd.read_csv(file_path)\n",
    "\n",
    "# Initialize BERT model and tokenizer\n",
    "model_name = 'bert-base-uncased'\n",
    "tokenizer = BertTokenizer.from_pretrained(model_name)\n",
    "model = BertModel.from_pretrained(model_name).to(device)  # Move model to GPU\n",
    "\n",
    "# Function to encode text using BERT\n",
    "def encode_text(text):\n",
    "    inputs = tokenizer(text, return_tensors='pt', max_length=512, truncation=True, padding='max_length').to(device)  # Move inputs to GPU\n",
    "    with torch.no_grad():\n",
    "        outputs = model(**inputs)\n",
    "    return outputs.last_hidden_state.mean(dim=1).squeeze().cpu().numpy()  # Move output to CPU before converting to numpy\n",
    "\n",
    "# Filter dataframe for ships_idx == 1032\n",
    "df_filtered = df[df['ships_idx'] == 1024]\n",
    "\n",
    "# Calculate similarity for each row in the filtered dataframe\n",
    "similarities = []\n",
    "for index, row in tqdm(df_filtered.iterrows(), total=df_filtered.shape[0], desc=\"Processing rows\"):\n",
    "    tag_description = row['tag_description']\n",
    "    p_thing_property = row['p_thing_property']\n",
    "    \n",
    "    # Skip rows where either tag_description or p_thing_property is null\n",
    "    if pd.isnull(tag_description) or pd.isnull(p_thing_property):\n",
    "        similarities.append(np.nan)\n",
    "        continue\n",
    "    \n",
    "    embedding1 = encode_text(tag_description)\n",
    "    embedding2 = encode_text(p_thing_property)\n",
    "    similarity_score = cosine_similarity([embedding1], [embedding2])[0][0]\n",
    "    similarities.append(similarity_score)\n",
    "\n",
    "# Add the similarity column to the filtered dataframe\n",
    "df_filtered[model_name] = similarities\n",
    "\n",
    "# Save the updated dataframe to a new CSV file\n",
    "output_file_path = 'test_with_predictions_MPM_desc_similarity.csv'\n",
    "df_filtered.to_csv(output_file_path, index=False)\n",
    "\n",
    "print(\"Updated file saved successfully.\")\n"
   ]
  }
 ],
 "metadata": {
  "kernelspec": {
   "display_name": "torch",
   "language": "python",
   "name": "python3"
  },
  "language_info": {
   "codemirror_mode": {
    "name": "ipython",
    "version": 3
   },
   "file_extension": ".py",
   "mimetype": "text/x-python",
   "name": "python",
   "nbconvert_exporter": "python",
   "pygments_lexer": "ipython3",
   "version": "3.10.14"
  }
 },
 "nbformat": 4,
 "nbformat_minor": 2
}
