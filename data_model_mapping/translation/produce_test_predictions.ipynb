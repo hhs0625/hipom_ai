{
 "cells": [
  {
   "cell_type": "markdown",
   "metadata": {},
   "source": [
    "# Goal: end to end inference and evaluation\n",
    "\n",
    "given a csv, make predictions and evaluate predictions, then return results in a csv"
   ]
  },
  {
   "cell_type": "code",
   "execution_count": 1,
   "metadata": {},
   "outputs": [],
   "source": [
    "import pandas as pd\n",
    "\n",
    "data_path = f\"../make_test_csv/test.csv\"\n",
    "# Ensure to include 'ships_idx' in the fields list\n",
    "fields = ['ships_idx', 'tag_name', 'tag_description', 'thing', 'property']\n",
    "\n",
    "# Load the dataset\n",
    "try:\n",
    "    df = pd.read_csv(data_path, skipinitialspace=True, usecols=fields)\n",
    "except UnicodeDecodeError:\n",
    "    df = pd.read_csv(data_path, skipinitialspace=True, usecols=fields, encoding='ISO-8859-1')\n",
    "\n",
    "\n",
    "df = df.dropna()\n",
    "selected_columns = ['thing', 'property', 'tag_description']\n",
    "df[selected_columns] = df[selected_columns].astype(\"string\")"
   ]
  },
  {
   "cell_type": "code",
   "execution_count": 2,
   "metadata": {},
   "outputs": [],
   "source": [
    "# construct dataset\n",
    "from datasets import Dataset\n",
    "\n",
    "def process_df(df):\n",
    "    output_list = [{\n",
    "        'translation': {\n",
    "            'ships_idx': row['ships_idx'],\n",
    "            'tag_description': row['tag_description'],\n",
    "            'thing_property': f\"<THING_START>{row['thing']}<THING_END><PROPERTY_START>{row['property']}<PROPERTY_END>\",\n",
    "            'answer_thing': f\"{row['thing']}\",\n",
    "            'answer_property':f\"{row['property']}\",\n",
    "        }\n",
    "    } for _, row in df.iterrows()]\n",
    "\n",
    "    return output_list\n",
    "\n",
    "test_dataset = Dataset.from_list(process_df(df))"
   ]
  },
  {
   "cell_type": "code",
   "execution_count": 3,
   "metadata": {},
   "outputs": [],
   "source": [
    "from transformers.pipelines.pt_utils import KeyDataset\n",
    "from transformers import pipeline\n",
    "from tqdm import tqdm\n",
    "\n",
    "model_checkpoint = \"train_tp_checkpoint_40/checkpoint-2320\"\n",
    "\n",
    "from transformers import AutoTokenizer\n",
    "tokenizer = AutoTokenizer.from_pretrained(\"t5-base\", return_tensors=\"pt\")\n",
    "# Define additional special tokens\n",
    "additional_special_tokens = [\"<THING_START>\", \"<THING_END>\", \"<PROPERTY_START>\", \"<PROPERTY_END>\"]\n",
    "# Add the additional special tokens to the tokenizer\n",
    "tokenizer.add_special_tokens({\"additional_special_tokens\": additional_special_tokens})\n",
    "# tokenizer.add_special_tokens({'sep_token': \"<SEP>\"})\n",
    "\n",
    "\n",
    "pipe = pipeline(\"translation_XX_to_YY\", model=model_checkpoint, tokenizer=tokenizer, return_tensors=True, max_length=64, device=0)\n",
    "\n",
    "# check what token-ids the special tokens are\n",
    "# tokenizer.encode(\"<THING_START><THING_END><PROPERTY_START><PROPERTY_END>\")\n"
   ]
  },
  {
   "cell_type": "code",
   "execution_count": 4,
   "metadata": {},
   "outputs": [],
   "source": [
    "def extract_seq(tokens, start_value, end_value):\n",
    "    if start_value not in tokens or end_value not in tokens:\n",
    "        return None  # Or handle this case according to your requirements\n",
    "    start_id = tokens.index(start_value)\n",
    "    end_id = tokens.index(end_value)\n",
    "\n",
    "    return tokens[start_id+1:end_id]\n"
   ]
  },
  {
   "cell_type": "code",
   "execution_count": 5,
   "metadata": {},
   "outputs": [],
   "source": [
    "# problem, what if end tokens are not in?\n",
    "def process_tensor_output(output):\n",
    "    tokens = output[0]['translation_token_ids'].tolist()\n",
    "    thing_seq = extract_seq(tokens, 32100, 32101) # 32100 = <THING_START>, 32101 = <THING_END>\n",
    "    property_seq = extract_seq(tokens, 32102, 32103) # 32102 = <PROPERTY_START>, 32103 = <PROPERTY_END>\n",
    "    p_thing = None\n",
    "    p_property = None\n",
    "    if (thing_seq is not None):\n",
    "        p_thing =  tokenizer.decode(thing_seq)\n",
    "    if (property_seq is not None):\n",
    "        p_property =  tokenizer.decode(property_seq)\n",
    "    return p_thing, p_property"
   ]
  },
  {
   "cell_type": "code",
   "execution_count": 6,
   "metadata": {},
   "outputs": [
    {
     "name": "stdout",
     "output_type": "stream",
     "text": [
      "making inference on test set\n"
     ]
    },
    {
     "name": "stderr",
     "output_type": "stream",
     "text": [
      "21140it [00:40, 525.73it/s]                   "
     ]
    },
    {
     "name": "stdout",
     "output_type": "stream",
     "text": [
      "inference done\n"
     ]
    },
    {
     "name": "stderr",
     "output_type": "stream",
     "text": [
      "\n"
     ]
    }
   ],
   "source": [
    "p_thing_list = []\n",
    "p_property_list = []\n",
    "print(\"making inference on test set\")\n",
    "for out in tqdm(pipe(KeyDataset(test_dataset[\"translation\"], \"tag_description\"), batch_size=256)):\n",
    "    p_thing, p_property = process_tensor_output(out)\n",
    "    p_thing_list.append(p_thing)\n",
    "    p_property_list.append(p_property)\n",
    "print(\"inference done\")"
   ]
  },
  {
   "cell_type": "code",
   "execution_count": 8,
   "metadata": {},
   "outputs": [
    {
     "name": "stdout",
     "output_type": "stream",
     "text": [
      "thing prediction accuracy 0.4195364238410596\n",
      "property prediction accuracy 0.38680227057710503\n"
     ]
    }
   ],
   "source": [
    "answer_thing = [ item['answer_thing'] for item in test_dataset[\"translation\"]]\n",
    "answer_property = [ item['answer_property'] for item in test_dataset[\"translation\"]]\n",
    "def correctness_test(input, reference):\n",
    "    assert(len(input) == len(reference))\n",
    "    correctness_list = []\n",
    "    for i in range(len(input)):\n",
    "        if (input[i] == reference[i]):\n",
    "            correctness_list.append(True)\n",
    "        else:\n",
    "            correctness_list.append(False)\n",
    "    return correctness_list\n",
    "\n",
    "# compare with answer to evaluate correctness\n",
    "thing_correctness = correctness_test(p_thing_list, answer_thing)\n",
    "print(\"thing prediction accuracy\", sum(thing_correctness)/len(thing_correctness))\n",
    "property_correctness = correctness_test(p_property_list, answer_property)\n",
    "print(\"property prediction accuracy\", sum(property_correctness)/len(property_correctness))\n",
    "\n",
    "dict = {'p_thing': p_thing_list, \n",
    "        'p_property': p_property_list,\n",
    "        'p_thing_correct': thing_correctness,\n",
    "        'p_property_correct': property_correctness}\n",
    "df_pred = pd.DataFrame(dict)"
   ]
  },
  {
   "cell_type": "code",
   "execution_count": 9,
   "metadata": {},
   "outputs": [],
   "source": [
    "# load dataset again, this time with all fields, except last 5 fields\n",
    "data_path = f\"test.csv\"\n",
    "# Load the dataset\n",
    "\n",
    "fields = ['thing',  'property', 'ships_idx', 'tag_name', 'equip_type_code', 'tag_description',\n",
    "        'tx_period', 'tx_type', 'on_change_yn', 'scaling_const', 'signal_type', 'min',\n",
    "        'max', 'unit', 'data_type', 'description', 'updated_time', 'status_code',\n",
    "        'is_timeout']\n",
    "\n",
    "try:\n",
    "    df_orig = pd.read_csv(data_path, usecols=fields, skipinitialspace=True)\n",
    "except UnicodeDecodeError:\n",
    "    df_orig = pd.read_csv(data_path, usecols=fields, skipinitialspace=True, encoding='ISO-8859-1')\n",
    "\n",
    "# combine prediction dataframe\n",
    "df_final = pd.concat([df_orig, df_pred], axis=1)\n",
    "df_final.to_csv('test_with_predictions.csv')"
   ]
  }
 ],
 "metadata": {
  "kernelspec": {
   "display_name": "Python 3",
   "language": "python",
   "name": "python3"
  },
  "language_info": {
   "codemirror_mode": {
    "name": "ipython",
    "version": 3
   },
   "file_extension": ".py",
   "mimetype": "text/x-python",
   "name": "python",
   "nbconvert_exporter": "python",
   "pygments_lexer": "ipython3",
   "version": "3.12.2"
  }
 },
 "nbformat": 4,
 "nbformat_minor": 2
}
