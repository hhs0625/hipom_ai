{
 "cells": [
  {
   "cell_type": "markdown",
   "metadata": {},
   "source": [
    "This file is responsible for processing the given .csv datafile into a single json file format\n",
    "\n",
    "The main reason for doing so is that we need the following structure for translation:\n",
    "```\n",
    "translation: {\n",
    "    language1: \"string\",\n",
    "    language2: \"string\"\n",
    "}\n",
    "```\n",
    "\n",
    "Since we are doing mapping, we replace the language with our data fields of interest, e.g tag_name, tag_description, thing, property"
   ]
  },
  {
   "cell_type": "code",
   "execution_count": 3,
   "metadata": {},
   "outputs": [],
   "source": [
    "import pandas as pd\n",
    "import numpy as np\n",
    "from os import listdir\n",
    "from os.path import isfile, join\n",
    "from pathlib import Path"
   ]
  },
  {
   "cell_type": "markdown",
   "metadata": {},
   "source": [
    "# Get Data"
   ]
  },
  {
   "cell_type": "markdown",
   "metadata": {},
   "source": [
    "## get data (old)"
   ]
  },
  {
   "cell_type": "code",
   "execution_count": null,
   "metadata": {},
   "outputs": [],
   "source": [
    "data_path = \".\"\n",
    "file_list = [Path(f).with_suffix('') for f in listdir(data_path) if isfile(join(data_path, f)) and f.endswith('.csv')]\n",
    "\n",
    "file_list\n",
    "df_list = []\n",
    "for f in file_list:\n",
    "    data_path = f\"{f}.csv\"\n",
    "    fields = ['tag_name', 'tag_description', 'thing', 'property']\n",
    "    df = pd.read_csv(data_path, skipinitialspace=True, usecols=fields)\n",
    "    df_list.append(df)\n",
    "\n",
    "df = pd.concat(df_list, ignore_index=True)"
   ]
  },
  {
   "cell_type": "markdown",
   "metadata": {},
   "source": [
    "## get data (new)"
   ]
  },
  {
   "cell_type": "code",
   "execution_count": 4,
   "metadata": {},
   "outputs": [],
   "source": [
    "data_path = f\"../test_data/data_mapping_filtered.csv\"\n",
    "fields = ['tag_name', 'tag_description', 'thing', 'property']\n",
    "df = pd.read_csv(data_path, skipinitialspace=True, usecols=fields)"
   ]
  },
  {
   "cell_type": "markdown",
   "metadata": {},
   "source": [
    "# create a json data for \"thing\""
   ]
  },
  {
   "cell_type": "code",
   "execution_count": 5,
   "metadata": {},
   "outputs": [],
   "source": [
    "import json\n",
    "\n",
    "output_list = []\n",
    "\n",
    "for _, row in df.iterrows():\n",
    "    translation = {\n",
    "        'translation': {\n",
    "            'tag_description': row['tag_description'],\n",
    "            'thing': row['thing'],\n",
    "        }\n",
    "    }\n",
    "    output_list.append(translation)\n",
    "\n",
    "# file_path = 'translations_thing.json'\n",
    "file_path = 'translations_thing.json'\n",
    "with open(file_path, 'w') as json_file:\n",
    "    json.dump(output_list, json_file, indent=4)"
   ]
  },
  {
   "cell_type": "markdown",
   "metadata": {},
   "source": [
    "# create a json data for \"property\""
   ]
  },
  {
   "cell_type": "code",
   "execution_count": 6,
   "metadata": {},
   "outputs": [],
   "source": [
    "import json\n",
    "\n",
    "output_list = []\n",
    "\n",
    "for _, row in df.iterrows():\n",
    "    translation = {\n",
    "        'translation': {\n",
    "            'tag_description': row['tag_description'],\n",
    "            #'thing': row['thing']\n",
    "            'property': row['property'],\n",
    "        }\n",
    "    }\n",
    "    output_list.append(translation)\n",
    "    \n",
    "# file_path = 'translations_thing.json'\n",
    "file_path = 'translations_property.json'\n",
    "with open(file_path, 'w') as json_file:\n",
    "    json.dump(output_list, json_file, indent=4)"
   ]
  },
  {
   "cell_type": "markdown",
   "metadata": {},
   "source": [
    "# create a json data for \"thing\" with concatenated tag fields\n",
    "\n",
    "We will introduce a separator token\n",
    "\n",
    "tag_name +\\<sep\\> + tag_description"
   ]
  },
  {
   "cell_type": "code",
   "execution_count": 16,
   "metadata": {},
   "outputs": [],
   "source": [
    "import json\n",
    "\n",
    "output_list = []\n",
    "\n",
    "for _, row in df.iterrows():\n",
    "    translation = {\n",
    "        'translation': {\n",
    "            'tag_description': row['tag_name'] + '<SEP>' + row['tag_description'],\n",
    "            #'thing': row['thing']\n",
    "            'property': row['property'],\n",
    "        }\n",
    "    }\n",
    "    output_list.append(translation)\n",
    "    \n",
    "# file_path = 'translations_thing.json'\n",
    "file_path = 'translations_property_concat_input.json'\n",
    "with open(file_path, 'w') as json_file:\n",
    "    json.dump(output_list, json_file, indent=4)"
   ]
  }
 ],
 "metadata": {
  "kernelspec": {
   "display_name": "Python 3",
   "language": "python",
   "name": "python3"
  },
  "language_info": {
   "codemirror_mode": {
    "name": "ipython",
    "version": 3
   },
   "file_extension": ".py",
   "mimetype": "text/x-python",
   "name": "python",
   "nbconvert_exporter": "python",
   "pygments_lexer": "ipython3",
   "version": "3.12.2"
  }
 },
 "nbformat": 4,
 "nbformat_minor": 2
}
