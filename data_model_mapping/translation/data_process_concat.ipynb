{
 "cells": [
  {
   "cell_type": "code",
   "execution_count": 6,
   "metadata": {},
   "outputs": [],
   "source": [
    "import pandas as pd\n",
    "import matplotlib.pyplot as plt\n",
    "\n",
    "# data_path = f\"../select_db/data_mapping_with_MDM_and_f.csv\"\n",
    "data_path = f\"../select_db/data_mapping_filtered.csv\"\n",
    "# Ensure to include 'ships_idx' in the fields list\n",
    "fields = ['ships_idx', 'tag_name', 'tag_description', 'thing', 'property', 'min', 'max']\n",
    "\n",
    "# Load the dataset\n",
    "try:\n",
    "    df = pd.read_csv(data_path, skipinitialspace=True, usecols=fields)\n",
    "except UnicodeDecodeError:\n",
    "    df = pd.read_csv(data_path, skipinitialspace=True, usecols=fields, encoding='ISO-8859-1')\n",
    "\n"
   ]
  },
  {
   "cell_type": "markdown",
   "metadata": {},
   "source": [
    "## Problem: sample by ships_idx alone might not lead to correct distribution of data\n",
    "\n",
    "splitting by ship_idx alone might not lead to fair distribution of observation count since ship_idx do not share uniform counts. \n",
    "\n",
    "The solution is just to randomly sample ship_idx until the row_counts hit the desired target count"
   ]
  },
  {
   "cell_type": "code",
   "execution_count": 7,
   "metadata": {},
   "outputs": [
    {
     "data": {
      "image/png": "[encoded data removed]",
      "text/plain": [
       "<Figure size 1000x600 with 1 Axes>"
      ]
     },
     "metadata": {},
     "output_type": "display_data"
    }
   ],
   "source": [
    "# Group the data by 'ships_idx' and count the rows for each group\n",
    "row_counts = df.groupby('ships_idx').size()\n",
    "\n",
    "# Plotting\n",
    "plt.figure(figsize=(10, 6))  # Adjust the size of the figure as needed\n",
    "row_counts.plot(kind='bar')  # You can also use 'barh' for a horizontal bar plot\n",
    "plt.title('Row Counts per Ships_idx')\n",
    "plt.xlabel('Ships_idx')\n",
    "plt.ylabel('Count of Rows')\n",
    "plt.grid(True)\n",
    "plt.show()\n"
   ]
  },
  {
   "cell_type": "code",
   "execution_count": 8,
   "metadata": {},
   "outputs": [],
   "source": [
    "import random\n",
    "\n",
    "\n",
    "# function purpose: randomly sample until total counts hit the required proportion\n",
    "# argument 1: dictionary of ship_idx to count\n",
    "# argument 2: target proportion of total counts in argument 1\n",
    "# argument 3: seed for random generator\n",
    "def sample_idx_until_proportion(count_by_ship_idx, target_proportion, seed):\n",
    "\n",
    "    random.seed(seed)\n",
    "    ship_idx_list = list(count_by_ship_idx.keys())\n",
    "\n",
    "    total_count = sum(count_by_ship_idx.values())\n",
    "    target_count = int(total_count * target_proportion)\n",
    "\n",
    "    selected_ships = []\n",
    "    total_selected_counts = 0\n",
    "\n",
    "    # sample ship_idx until counts are close enough to target\n",
    "    # add a buffer of 100 to stop once close enough\n",
    "    while (total_selected_counts < target_count - 100): \n",
    "        \n",
    "        # Select a ship using random sampling without replacement\n",
    "        chosen_ship_idx = random.choice(ship_idx_list)\n",
    "        counts = count_by_ship_idx[chosen_ship_idx]\n",
    "        \n",
    "        # Add the chosen ship to the selected ship list\n",
    "        selected_ships.append(chosen_ship_idx)\n",
    "        total_selected_counts += counts\n",
    "\n",
    "        # remove selected ship from sampling list\n",
    "        ship_idx_list.remove(chosen_ship_idx)\n",
    "    return selected_ships, total_selected_counts\n",
    "    "
   ]
  },
  {
   "cell_type": "code",
   "execution_count": 9,
   "metadata": {},
   "outputs": [
    {
     "name": "stdout",
     "output_type": "stream",
     "text": [
      "training proportion:  0.7990731204943358\n",
      "validation proportion:  0.10061791967044284\n",
      "test proportion:  0.10030895983522142\n",
      "training ship idx selection:\n",
      "[1002, 1019, 1046, 1051, 1010, 1032, 1026, 1048, 1007, 1035, 1045, 1038, 1049, 1001, 1041, 1034, 1029, 1037, 1033, 1015, 1005, 1043, 1006, 1044, 1008, 1021, 1011, 1009, 1014, 1031, 1030, 1013, 1027, 1042, 1022, 1017, 1039, 1003, 1000, 1036, 1004, 1018]\n",
      "validation ship idx selection:\n",
      "[1024, 1047, 1040, 1016, 1012]\n",
      "test ship idx selection:\n",
      "{1025, 1028, 1050, 1020, 1023}\n"
     ]
    }
   ],
   "source": [
    "import json\n",
    "\n",
    "seed = 43\n",
    "count_by_ship_idx = df.groupby('ships_idx').size().to_dict()\n",
    "\n",
    "total_ship_idx_set = set(count_by_ship_idx.keys())\n",
    "# sample idx's for training data\n",
    "training_ship_idx_selection, training_counts = sample_idx_until_proportion(count_by_ship_idx, 0.8, seed=seed)\n",
    "val_test_ship_idx_set = total_ship_idx_set - set(training_ship_idx_selection)\n",
    "# sample idx's for validation data\n",
    "count_by_ship_idx_val_test_set = { ship_idx: count_by_ship_idx[ship_idx] for ship_idx in list(val_test_ship_idx_set) }\n",
    "# note that 0.5 is for the ship_idx set that remains after removing training ship_idx's\n",
    "val_ship_idx_selection, validation_counts = sample_idx_until_proportion(count_by_ship_idx_val_test_set, 0.5, seed=seed)\n",
    "# sample idx's for test data\n",
    "test_ship_idx_selection = val_test_ship_idx_set - set(val_ship_idx_selection)\n",
    "\n",
    "# get report of split\n",
    "total_counts = sum(count_by_ship_idx.values())\n",
    "print(\"training proportion: \", training_counts/total_counts)\n",
    "print(\"validation proportion: \", validation_counts/total_counts)\n",
    "print(\"test proportion: \", (total_counts - training_counts - validation_counts)/total_counts)\n",
    "\n",
    "\n",
    "print(\"training ship idx selection:\")\n",
    "print(training_ship_idx_selection)\n",
    "\n",
    "print(\"validation ship idx selection:\")\n",
    "print(val_ship_idx_selection)\n",
    "\n",
    "print(\"test ship idx selection:\")\n",
    "print(test_ship_idx_selection)\n",
    "\n",
    "train_idx = training_ship_idx_selection\n",
    "test_idx = test_ship_idx_selection\n",
    "validation_idx = val_ship_idx_selection\n",
    "\n",
    "# JSON 파일로 저장하는 부분 추가\n",
    "data_split = {\n",
    "    \"training_ship_idx_selection\": training_ship_idx_selection,\n",
    "    \"validation_ship_idx_selection\": val_ship_idx_selection,\n",
    "    \"test_ship_idx_selection\": list(test_ship_idx_selection)\n",
    "}\n",
    "\n",
    "with open('ship_idx_selection.json', 'w') as json_file:\n",
    "    json.dump(data_split, json_file, indent=4)"
   ]
  },
  {
   "cell_type": "markdown",
   "metadata": {},
   "source": [
    "## Understanding huggingface datasets\n",
    "\n",
    "Each dataframe row must be reorganized into the format of 'translation: {input: \"data1\", output: \"data2\"}'. This is due to a quirk in the way datasets are enumerated in `t5_train_tp.py/ipynb`.\n",
    "\n",
    "Hence it is easier to just create a list of dictionaries, where each dictionary is 1 corresponding dataframe row, and then create a dataset by using `Dataset.from_list` on the list of dictionaries.\n",
    "\n",
    "3 separate datasets are assigned a key and combined into a DatasetDict for each of the 'train', 'test', 'validation' splits.\n",
    "\n",
    "Individual datasets can be saved as csv, json text-files, but DatasetDict can only be saved via `save_to_disk`. \n",
    "\n",
    "The decision to save a DatasetDict rather than 3 separate Datasets means that subsequent training and inference data imports are made much simpler without the need to re-create the dictionary structure.\n",
    "\n",
    "The downside is that the folder is slightly less portable, but the folder is still relatively space-efficient compared to saving in the original json file format due to the use of PyArrow internal structures.\n",
    "\n"
   ]
  },
  {
   "cell_type": "code",
   "execution_count": 10,
   "metadata": {},
   "outputs": [
    {
     "data": {
      "application/vnd.jupyter.widget-view+json": {
       "model_id": "69767942b8e94f6cbb1abc86de849d3f",
       "version_major": 2,
       "version_minor": 0
      },
      "text/plain": [
       "Saving the dataset (0/1 shards):   0%|          | 0/7759 [00:00<?, ? examples/s]"
      ]
     },
     "metadata": {},
     "output_type": "display_data"
    },
    {
     "data": {
      "application/vnd.jupyter.widget-view+json": {
       "model_id": "af04a79023f345e88428404412dc3960",
       "version_major": 2,
       "version_minor": 0
      },
      "text/plain": [
       "Saving the dataset (0/1 shards):   0%|          | 0/974 [00:00<?, ? examples/s]"
      ]
     },
     "metadata": {},
     "output_type": "display_data"
    },
    {
     "data": {
      "application/vnd.jupyter.widget-view+json": {
       "model_id": "4d6293ef8dc447d2b54d64ac0d9783d6",
       "version_major": 2,
       "version_minor": 0
      },
      "text/plain": [
       "Saving the dataset (0/1 shards):   0%|          | 0/977 [00:00<?, ? examples/s]"
      ]
     },
     "metadata": {},
     "output_type": "display_data"
    }
   ],
   "source": [
    "import pandas as pd\n",
    "from datasets import Dataset, DatasetDict\n",
    "import json\n",
    "\n",
    "# Filter the DataFrame based on the split indices\n",
    "train_df = df[df['ships_idx'].isin(train_idx)]\n",
    "test_df = df[df['ships_idx'].isin(test_idx)]\n",
    "validation_df = df[df['ships_idx'].isin(validation_idx)]\n",
    "\n",
    "# Function to process DataFrame based on mode\n",
    "def process_df(df, mode='only_td'):\n",
    "    output_list = []\n",
    "    for idx, row in df.iterrows():\n",
    "        try:\n",
    "            if mode == 'only_td':\n",
    "                input_str = f\"<TD_START>{str(row['tag_description'])}<TD_END>\"\n",
    "            elif mode == 'tn_td':\n",
    "                input_str = f\"<TN_START>{str(row['tag_name'])}<TN_END><TD_START>{str(row['tag_description'])}<TD_END>\"\n",
    "            elif mode == 'tn_td_min_max':\n",
    "                input_str = f\"<TN_START>{str(row['tag_name'])}<TN_END><TD_START>{str(row['tag_description'])}<TD_END><MIN_START>{row['min']}<MIN_END><MAX_START>{row['max']}<MAX_END>\"\n",
    "            elif mode == 'td_min_max':\n",
    "                input_str = f\"<TD_START>{str(row['tag_description'])}<TD_END><MIN_START>{row['min']}<MIN_END><MAX_START>{row['max']}<MAX_END>\"    \n",
    "            else:\n",
    "                raise ValueError(\"Invalid mode specified\")\n",
    "            \n",
    "            output_list.append({\n",
    "                'translation': {\n",
    "                    'ships_idx': row['ships_idx'],\n",
    "                    'input': input_str,\n",
    "                    'thing_property': f\"<THING_START>{str(row['thing'])}<THING_END><PROPERTY_START>{str(row['property'])}<PROPERTY_END>\",\n",
    "                    'answer': f\"{str(row['thing'])} {str(row['property'])}\",\n",
    "                }\n",
    "            })\n",
    "        except Exception as e:\n",
    "            print(f\"Error processing row at index {idx}: {row}\")\n",
    "            print(f\"Exception: {e}\")\n",
    "    return output_list\n",
    "\n",
    "# Example mode selection\n",
    "mode = 'td_min_max'  # Change this to 'only_td' or 'tn_td' as needed\n",
    "# Create a dictionary to hold the mode\n",
    "mode_dict = {\"mode\": mode}\n",
    "\n",
    "# Save the dictionary to a JSON file\n",
    "with open(\"mode.json\", \"w\") as json_file:\n",
    "    json.dump(mode_dict, json_file)\n",
    "\n",
    "try:\n",
    "    combined_data = DatasetDict({\n",
    "        'train': Dataset.from_list(process_df(train_df, mode=mode)),\n",
    "        'test': Dataset.from_list(process_df(test_df, mode=mode)),\n",
    "        'validation': Dataset.from_list(process_df(validation_df, mode=mode)),\n",
    "    })\n",
    "\n",
    "    combined_data.save_to_disk(\"combined_data\")\n",
    "except Exception as e:\n",
    "    print(f\"Error creating DatasetDict: {e}\")"
   ]
  }
 ],
 "metadata": {
  "kernelspec": {
   "display_name": "Python 3 (ipykernel)",
   "language": "python",
   "name": "python3"
  },
  "language_info": {
   "codemirror_mode": {
    "name": "ipython",
    "version": 3
   },
   "file_extension": ".py",
   "mimetype": "text/x-python",
   "name": "python",
   "nbconvert_exporter": "python",
   "pygments_lexer": "ipython3",
   "version": "3.9.13"
  }
 },
 "nbformat": 4,
 "nbformat_minor": 2
}
