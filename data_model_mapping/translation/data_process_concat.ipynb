{
 "cells": [
  {
   "cell_type": "code",
   "execution_count": 1,
   "metadata": {},
   "outputs": [],
   "source": [
    "import pandas as pd\n",
    "import matplotlib.pyplot as plt\n",
    "\n",
    "data_path = f\"../select_db/data_mapping_filtered.csv\"\n",
    "# data_path = f\"../test_data/data_mapping_filtered.csv\"\n",
    "# Ensure to include 'ships_idx' in the fields list\n",
    "fields = ['ships_idx', 'tag_name', 'tag_description', 'thing', 'property']\n",
    "\n",
    "# Load the dataset\n",
    "try:\n",
    "    df = pd.read_csv(data_path, skipinitialspace=True, usecols=fields)\n",
    "except UnicodeDecodeError:\n",
    "    df = pd.read_csv(data_path, skipinitialspace=True, usecols=fields, encoding='ISO-8859-1')\n",
    "\n"
   ]
  },
  {
   "cell_type": "markdown",
   "metadata": {},
   "source": [
    "## Problem: sample by ships_idx alone might not lead to correct distribution of data\n",
    "\n",
    "splitting by ship_idx alone might not lead to fair distribution of observation count since ship_idx do not share uniform counts. \n",
    "\n",
    "The solution is just to randomly sample ship_idx until the row_counts hit the desired target count"
   ]
  },
  {
   "cell_type": "code",
   "execution_count": 2,
   "metadata": {},
   "outputs": [
    {
     "data": {
      "image/png": "[encoded data removed]",
      "text/plain": [
       "<Figure size 1000x600 with 1 Axes>"
      ]
     },
     "metadata": {},
     "output_type": "display_data"
    }
   ],
   "source": [
    "# Group the data by 'ships_idx' and count the rows for each group\n",
    "row_counts = df.groupby('ships_idx').size()\n",
    "\n",
    "# Plotting\n",
    "plt.figure(figsize=(10, 6))  # Adjust the size of the figure as needed\n",
    "row_counts.plot(kind='bar')  # You can also use 'barh' for a horizontal bar plot\n",
    "plt.title('Row Counts per Ships_idx')\n",
    "plt.xlabel('Ships_idx')\n",
    "plt.ylabel('Count of Rows')\n",
    "plt.grid(True)\n",
    "plt.show()\n"
   ]
  },
  {
   "cell_type": "code",
   "execution_count": 3,
   "metadata": {},
   "outputs": [],
   "source": [
    "import random\n",
    "\n",
    "\n",
    "# function purpose: randomly sample until total counts hit the required proportion\n",
    "# argument 1: dictionary of ship_idx to count\n",
    "# argument 2: target proportion of total counts in argument 1\n",
    "# argument 3: seed for random generator\n",
    "def sample_idx_until_proportion(count_by_ship_idx, target_proportion, seed):\n",
    "\n",
    "    random.seed(seed)\n",
    "    ship_idx_list = list(count_by_ship_idx.keys())\n",
    "\n",
    "    total_count = sum(count_by_ship_idx.values())\n",
    "    target_count = int(total_count * target_proportion)\n",
    "\n",
    "    selected_ships = []\n",
    "    total_selected_counts = 0\n",
    "\n",
    "    # sample ship_idx until counts are close enough to target\n",
    "    # add a buffer of 100 to stop once close enough\n",
    "    while (total_selected_counts < target_count - 100): \n",
    "        \n",
    "        # Select a ship using random sampling without replacement\n",
    "        chosen_ship_idx = random.choice(ship_idx_list)\n",
    "        counts = count_by_ship_idx[chosen_ship_idx]\n",
    "        \n",
    "        # Add the chosen ship to the selected ship list\n",
    "        selected_ships.append(chosen_ship_idx)\n",
    "        total_selected_counts += counts\n",
    "\n",
    "        # remove selected ship from sampling list\n",
    "        ship_idx_list.remove(chosen_ship_idx)\n",
    "    return selected_ships, total_selected_counts\n",
    "    "
   ]
  },
  {
   "cell_type": "code",
   "execution_count": 4,
   "metadata": {},
   "outputs": [
    {
     "name": "stdout",
     "output_type": "stream",
     "text": [
      "training proportion:  0.7979280383201515\n",
      "validation proportion:  0.09256990085774758\n",
      "test proportion:  0.10950206082210093\n",
      "training ship idx selection:\n",
      "[1002, 1020, 1048, 1010, 1033, 1027, 1050, 1007, 1037, 1047, 1040, 1051, 1001, 1043, 1036, 1030, 1039, 1034, 1015, 1003, 1045, 1006, 1046, 1008, 1022, 1011, 1009, 1014, 1032, 1031, 1013, 1028, 1044, 1023, 1017, 1021, 1004, 1000, 1041, 1005]\n",
      "validation ship idx selection:\n",
      "[1024, 1042, 1029, 1012, 1038]\n",
      "training ship idx selection:\n",
      "{1025, 1026, 1016, 1049, 1019}\n"
     ]
    }
   ],
   "source": [
    "seed = 43\n",
    "count_by_ship_idx = df.groupby('ships_idx').size().to_dict()\n",
    "\n",
    "total_ship_idx_set = set(count_by_ship_idx.keys())\n",
    "# sample idx's for training data\n",
    "training_ship_idx_selection, training_counts = sample_idx_until_proportion(count_by_ship_idx, 0.8, seed=seed)\n",
    "val_test_ship_idx_set = total_ship_idx_set - set(training_ship_idx_selection)\n",
    "# sample idx's for validation data\n",
    "count_by_ship_idx_val_test_set = { ship_idx: count_by_ship_idx[ship_idx] for ship_idx in list(val_test_ship_idx_set) }\n",
    "# note that 0.5 is for the ship_idx set that remains after removing training ship_idx's\n",
    "val_ship_idx_selection, validation_counts = sample_idx_until_proportion(count_by_ship_idx_val_test_set, 0.5, seed=seed)\n",
    "# sample idx's for test data\n",
    "test_ship_idx_selection = val_test_ship_idx_set - set(val_ship_idx_selection)\n",
    "\n",
    "# get report of split\n",
    "total_counts = sum(count_by_ship_idx.values())\n",
    "print(\"training proportion: \", training_counts/total_counts)\n",
    "print(\"validation proportion: \", validation_counts/total_counts)\n",
    "print(\"test proportion: \", (total_counts - training_counts - validation_counts)/total_counts)\n",
    "\n",
    "\n",
    "print(\"training ship idx selection:\")\n",
    "print(training_ship_idx_selection)\n",
    "\n",
    "print(\"validation ship idx selection:\")\n",
    "print(val_ship_idx_selection)\n",
    "\n",
    "print(\"training ship idx selection:\")\n",
    "print(test_ship_idx_selection)\n",
    "\n",
    "train_idx = training_ship_idx_selection\n",
    "test_idx = test_ship_idx_selection\n",
    "validation_idx = val_ship_idx_selection"
   ]
  },
  {
   "cell_type": "markdown",
   "metadata": {},
   "source": [
    "## Understanding huggingface datasets\n",
    "\n",
    "Each dataframe row must be reorganized into the format of 'translation: {input: \"data1\", output: \"data2\"}'. This is due to a quirk in the way datasets are enumerated in `t5_train_tp.py/ipynb`.\n",
    "\n",
    "Hence it is easier to just create a list of dictionaries, where each dictionary is 1 corresponding dataframe row, and then create a dataset by using `Dataset.from_list` on the list of dictionaries.\n",
    "\n",
    "3 separate datasets are assigned a key and combined into a DatasetDict for each of the 'train', 'test', 'validation' splits.\n",
    "\n",
    "Individual datasets can be saved as csv, json text-files, but DatasetDict can only be saved via `save_to_disk`. \n",
    "\n",
    "The decision to save a DatasetDict rather than 3 separate Datasets means that subsequent training and inference data imports are made much simpler without the need to re-create the dictionary structure.\n",
    "\n",
    "The downside is that the folder is slightly less portable, but the folder is still relatively space-efficient compared to saving in the original json file format due to the use of PyArrow internal structures.\n",
    "\n"
   ]
  },
  {
   "cell_type": "code",
   "execution_count": 5,
   "metadata": {},
   "outputs": [
    {
     "data": {
      "application/vnd.jupyter.widget-view+json": {
       "model_id": "4d37a50ff105463eae7cf96967388d83",
       "version_major": 2,
       "version_minor": 0
      },
      "text/plain": [
       "Saving the dataset (0/1 shards):   0%|          | 0/7163 [00:00<?, ? examples/s]"
      ]
     },
     "metadata": {},
     "output_type": "display_data"
    },
    {
     "data": {
      "application/vnd.jupyter.widget-view+json": {
       "model_id": "7bf2d9dc00d54775a168efda23e9712d",
       "version_major": 2,
       "version_minor": 0
      },
      "text/plain": [
       "Saving the dataset (0/1 shards):   0%|          | 0/983 [00:00<?, ? examples/s]"
      ]
     },
     "metadata": {},
     "output_type": "display_data"
    },
    {
     "data": {
      "application/vnd.jupyter.widget-view+json": {
       "model_id": "5aa8f70c43054aa9bdd46e0c6a0f902b",
       "version_major": 2,
       "version_minor": 0
      },
      "text/plain": [
       "Saving the dataset (0/1 shards):   0%|          | 0/831 [00:00<?, ? examples/s]"
      ]
     },
     "metadata": {},
     "output_type": "display_data"
    }
   ],
   "source": [
    "import pandas as pd\n",
    "from datasets import Dataset, DatasetDict\n",
    "\n",
    "# Filter the DataFrame based on the split indices\n",
    "train_df = df[df['ships_idx'].isin(train_idx)]\n",
    "test_df = df[df['ships_idx'].isin(test_idx)]\n",
    "validation_df = df[df['ships_idx'].isin(validation_idx)]\n",
    "\n",
    "# convert each dataframe row into a dictionary\n",
    "# outputs a list of dictionaries\n",
    "def process_df(df):\n",
    "    output_list = []\n",
    "    for idx, row in df.iterrows():\n",
    "        try:\n",
    "            output_list.append({\n",
    "                'translation': {\n",
    "                    'ships_idx': row['ships_idx'],\n",
    "                    'tag_description': str(row['tag_description']),\n",
    "                    'thing_property': f\"<THING_START>{str(row['thing'])}<THING_END><PROPERTY_START>{str(row['property'])}<PROPERTY_END>\",\n",
    "                    'answer': f\"{str(row['thing'])} {str(row['property'])}\",\n",
    "                }\n",
    "            })\n",
    "        except Exception as e:\n",
    "            print(f\"Error processing row at index {idx}: {row}\")\n",
    "            print(f\"Exception: {e}\")\n",
    "    return output_list\n",
    "\n",
    "try:\n",
    "    combined_data = DatasetDict({\n",
    "        'train': Dataset.from_list(process_df(train_df)),\n",
    "        'test': Dataset.from_list(process_df(test_df)),\n",
    "        'validation': Dataset.from_list(process_df(validation_df)),\n",
    "    })\n",
    "\n",
    "    combined_data.save_to_disk(\"combined_data\")\n",
    "except Exception as e:\n",
    "    print(f\"Error creating DatasetDict: {e}\")\n"
   ]
  }
 ],
 "metadata": {
  "kernelspec": {
   "display_name": "Python 3 (ipykernel)",
   "language": "python",
   "name": "python3"
  },
  "language_info": {
   "codemirror_mode": {
    "name": "ipython",
    "version": 3
   },
   "file_extension": ".py",
   "mimetype": "text/x-python",
   "name": "python",
   "nbconvert_exporter": "python",
   "pygments_lexer": "ipython3",
   "version": "3.9.13"
  }
 },
 "nbformat": 4,
 "nbformat_minor": 2
}
