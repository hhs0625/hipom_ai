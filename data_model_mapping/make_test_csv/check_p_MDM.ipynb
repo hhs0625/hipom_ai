{
 "cells": [
  {
   "cell_type": "code",
   "execution_count": 2,
   "metadata": {},
   "outputs": [
    {
     "name": "stdout",
     "output_type": "stream",
     "text": [
      "Total number of rows where p_MDM is FALSE: 24500\n",
      "Update completed.\n"
     ]
    }
   ],
   "source": [
    "import pandas as pd\n",
    "\n",
    "# Load the data from the Excel file and a CSV file\n",
    "df_test = pd.read_excel('../translation/test_with_predictions.xlsx')\n",
    "df_master = pd.read_csv('../master_model/master_model.csv')\n",
    "\n",
    "# Create a new column 'master_pattern' in df_master\n",
    "df_master['master_pattern'] = df_master['thing'] + \"@\" + df_master['property']\n",
    "\n",
    "# Create a pattern column in df_test that matches the format of 'master_pattern'\n",
    "df_test['p_pattern'] = df_test['p_thing'].str.replace(r'\\d', '#', regex=True) + \"@\" + df_test['p_property'].str.replace(r'\\d', '#', regex=True)\n",
    "\n",
    "# Set of master patterns from df_master\n",
    "master_patterns = set(df_master['master_pattern'])\n",
    "\n",
    "# Check each pattern in df_test if it exists in df_master and assign the \"MDM\" field\n",
    "df_test['p_MDM'] = df_test['p_pattern'].apply(lambda x: \"TRUE\" if x in master_patterns else \"FALSE\")\n",
    "\n",
    "# Print the total number of rows where 'p_MDM' is 'FALSE'\n",
    "false_count = (df_test['p_MDM'] == \"FALSE\").sum()\n",
    "print(f\"Total number of rows where p_MDM is FALSE: {false_count}\")\n",
    "\n",
    "# Save the updated DataFrame back to the Excel file\n",
    "df_test.to_excel('test_with_predictions_updated.xlsx', index=False)  # This creates a new file or overwrites the existing one\n",
    "\n",
    "print(\"Update completed.\")\n"
   ]
  }
 ],
 "metadata": {
  "kernelspec": {
   "display_name": "base",
   "language": "python",
   "name": "python3"
  },
  "language_info": {
   "codemirror_mode": {
    "name": "ipython",
    "version": 3
   },
   "file_extension": ".py",
   "mimetype": "text/x-python",
   "name": "python",
   "nbconvert_exporter": "python",
   "pygments_lexer": "ipython3",
   "version": "3.9.13"
  }
 },
 "nbformat": 4,
 "nbformat_minor": 2
}
