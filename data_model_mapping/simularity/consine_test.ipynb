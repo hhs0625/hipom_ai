{
 "cells": [
  {
   "cell_type": "code",
   "execution_count": 16,
   "metadata": {},
   "outputs": [
    {
     "name": "stdout",
     "output_type": "stream",
     "text": [
      "Cosine similarity: 0.6694\n",
      "Euclidean distance: 0.8131\n",
      "Manhattan distance: 1.1499\n",
      "Jaccard similarity: 0.6667\n",
      "Levenshtein similarity: 0.7222\n"
     ]
    }
   ],
   "source": [
    "import numpy as np\n",
    "from sklearn.feature_extraction.text import TfidfVectorizer\n",
    "from sklearn.metrics.pairwise import cosine_similarity, euclidean_distances, manhattan_distances\n",
    "from scipy.spatial.distance import jaccard\n",
    "import textdistance\n",
    "\n",
    "# Define the phrases\n",
    "phrase1 = \"M/E T/C RPM\"\n",
    "phrase2 = \"ME1 Turbo Charger 1 RPM\"\n",
    "\n",
    "# Initialize the vectorizer\n",
    "vectorizer = TfidfVectorizer()\n",
    "\n",
    "# Fit and transform the phrases\n",
    "tfidf_matrix = vectorizer.fit_transform([phrase1, phrase2])\n",
    "\n",
    "# Compute cosine similarity\n",
    "cosine_sim = cosine_similarity(tfidf_matrix[0:1], tfidf_matrix[1:2])[0][0]\n",
    "\n",
    "# Compute Euclidean distance\n",
    "euclidean_dist = euclidean_distances(tfidf_matrix[0:1], tfidf_matrix[1:2])[0][0]\n",
    "\n",
    "# Compute Manhattan distance\n",
    "manhattan_dist = manhattan_distances(tfidf_matrix[0:1], tfidf_matrix[1:2])[0][0]\n",
    "\n",
    "# Compute Jaccard similarity\n",
    "# Note: Jaccard needs boolean values, here we use a simple approach by using non-zero as True\n",
    "jaccard_sim = 1 - jaccard(tfidf_matrix[0].toarray().astype(bool)[0], tfidf_matrix[1].toarray().astype(bool)[0])\n",
    "\n",
    "# Compute Levenshtein distance\n",
    "levenshtein_dist = textdistance.levenshtein.normalized_similarity(phrase1, phrase2)\n",
    "\n",
    "print(f\"Cosine similarity: {cosine_sim:.4f}\")\n",
    "print(f\"Euclidean distance: {euclidean_dist:.4f}\")\n",
    "print(f\"Manhattan distance: {manhattan_dist:.4f}\")\n",
    "print(f\"Jaccard similarity: {jaccard_sim:.4f}\")\n",
    "print(f\"Levenshtein similarity: {levenshtein_dist:.4f}\")\n"
   ]
  }
 ],
 "metadata": {
  "kernelspec": {
   "display_name": "base",
   "language": "python",
   "name": "python3"
  },
  "language_info": {
   "codemirror_mode": {
    "name": "ipython",
    "version": 3
   },
   "file_extension": ".py",
   "mimetype": "text/x-python",
   "name": "python",
   "nbconvert_exporter": "python",
   "pygments_lexer": "ipython3",
   "version": "3.9.13"
  }
 },
 "nbformat": 4,
 "nbformat_minor": 2
}
