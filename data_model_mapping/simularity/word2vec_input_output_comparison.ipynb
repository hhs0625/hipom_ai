{
 "cells": [
  {
   "cell_type": "code",
   "execution_count": null,
   "metadata": {},
   "outputs": [],
   "source": [
    "import pandas as pd\n",
    "import matplotlib.pyplot as plt\n",
    "import numpy as np\n",
    "from os import listdir\n",
    "from os.path import isfile, join\n",
    "from pathlib import Path\n",
    "\n",
    "import re\n",
    "from tqdm import tqdm\n",
    "\n",
    "from gensim.models import Word2Vec\n",
    "\n",
    "from sklearn.manifold import TSNE\n",
    "\n",
    "# for computing cosine sim\n",
    "from numpy.linalg import norm"
   ]
  },
  {
   "cell_type": "markdown",
   "metadata": {},
   "source": [
    "# data import\n",
    "\n",
    "if data source is from test_data folder in the same directory"
   ]
  },
  {
   "cell_type": "code",
   "execution_count": 3,
   "metadata": {},
   "outputs": [],
   "source": [
    "data_path = \"test_data\"\n",
    "file_list = [Path(f).with_suffix('') for f in listdir(data_path) if isfile(join(data_path, f))]\n",
    "\n",
    "\n",
    "f = file_list[0]\n",
    "data_path = f\"test_data/{f}.csv\"\n",
    "fields = ['tag_name', 'tag_description', 'thing', 'property']\n",
    "df = pd.read_csv(data_path, skipinitialspace=True, usecols=fields)\n",
    "\n",
    "for f in file_list[1:]:\n",
    "    data_path = f\"test_data/{f}.csv\"\n",
    "    df_temp = pd.read_csv(data_path, skipinitialspace=True, usecols=fields)\n",
    "    df = pd.concat([df, df_temp], ignore_index=True)\n"
   ]
  },
  {
   "cell_type": "markdown",
   "metadata": {
    "vscode": {
     "languageId": "bat"
    }
   },
   "source": [
    "if data source is a single file"
   ]
  },
  {
   "cell_type": "code",
   "execution_count": 4,
   "metadata": {},
   "outputs": [],
   "source": [
    "\n",
    "data_path = f\"data_mapping_filtered.csv\"\n",
    "fields = ['tag_name', 'tag_description', 'thing', 'property']\n",
    "df = pd.read_csv(data_path, skipinitialspace=True, usecols=fields)\n"
   ]
  },
  {
   "cell_type": "code",
   "execution_count": 6,
   "metadata": {},
   "outputs": [
    {
     "data": {
      "text/html": [
       "<div>\n",
       "<style scoped>\n",
       "    .dataframe tbody tr th:only-of-type {\n",
       "        vertical-align: middle;\n",
       "    }\n",
       "\n",
       "    .dataframe tbody tr th {\n",
       "        vertical-align: top;\n",
       "    }\n",
       "\n",
       "    .dataframe thead th {\n",
       "        text-align: right;\n",
       "    }\n",
       "</style>\n",
       "<table border=\"1\" class=\"dataframe\">\n",
       "  <thead>\n",
       "    <tr style=\"text-align: right;\">\n",
       "      <th></th>\n",
       "      <th>thing</th>\n",
       "      <th>property</th>\n",
       "      <th>tag_name</th>\n",
       "      <th>tag_description</th>\n",
       "    </tr>\n",
       "  </thead>\n",
       "  <tbody>\n",
       "    <tr>\n",
       "      <th>count</th>\n",
       "      <td>9184</td>\n",
       "      <td>9184</td>\n",
       "      <td>9184</td>\n",
       "      <td>9184</td>\n",
       "    </tr>\n",
       "    <tr>\n",
       "      <th>unique</th>\n",
       "      <td>50</td>\n",
       "      <td>178</td>\n",
       "      <td>4969</td>\n",
       "      <td>4363</td>\n",
       "    </tr>\n",
       "    <tr>\n",
       "      <th>top</th>\n",
       "      <td>MainEngine1Thing</td>\n",
       "      <td>RPM</td>\n",
       "      <td>MA002</td>\n",
       "      <td>NO.1 G/E CHARGE AIR PRESS</td>\n",
       "    </tr>\n",
       "    <tr>\n",
       "      <th>freq</th>\n",
       "      <td>1283</td>\n",
       "      <td>489</td>\n",
       "      <td>15</td>\n",
       "      <td>32</td>\n",
       "    </tr>\n",
       "  </tbody>\n",
       "</table>\n",
       "</div>"
      ],
      "text/plain": [
       "                   thing property tag_name            tag_description\n",
       "count               9184     9184     9184                       9184\n",
       "unique                50      178     4969                       4363\n",
       "top     MainEngine1Thing      RPM    MA002  NO.1 G/E CHARGE AIR PRESS\n",
       "freq                1283      489       15                         32"
      ]
     },
     "execution_count": 6,
     "metadata": {},
     "output_type": "execute_result"
    }
   ],
   "source": [
    "df.describe()"
   ]
  },
  {
   "cell_type": "code",
   "execution_count": 7,
   "metadata": {},
   "outputs": [],
   "source": [
    "\n",
    "def preprocess(text):\n",
    "\n",
    "    # Convert all text to lowercase\n",
    "    text = text.lower()\n",
    "\n",
    "    # Replace punctuation with tokens so we can use them in our model\n",
    "    text = text.replace('_', ' <UNDERSCORE> ')\n",
    "    # text = text.replace('.', ' <PERIOD> ')\n",
    "    text = text.replace(',', ' <COMMA> ')\n",
    "    text = text.replace('\"', ' <QUOTATION_MARK> ')\n",
    "    text = text.replace(';', ' <SEMICOLON> ')\n",
    "    text = text.replace('!', ' <EXCLAMATION_MARK> ')\n",
    "    text = text.replace('?', ' <QUESTION_MARK> ')\n",
    "    text = text.replace('(', ' <LEFT_PAREN> ')\n",
    "    text = text.replace(')', ' <RIGHT_PAREN> ')\n",
    "    text = text.replace('-', ' <HYPHEN> ')\n",
    "    text = text.replace('?', ' <QUESTION_MARK> ')\n",
    "    # text = text.replace('\\n', ' <NEW_LINE> ')\n",
    "    text = text.replace(':', ' <COLON> ')\n",
    "    text = text.replace('&', ' <AMPERSAND> ')\n",
    "    # replace contiguous numbers with <num>\n",
    "    text = re.sub(r'\\d+', ' <NUM> ', text)\n",
    "    words = text.split()\n",
    "    \n",
    "    return words\n",
    "\n",
    "def tokenize_corpus(corpus):\n",
    "    tokens = [preprocess(x) for x in corpus]\n",
    "    return tokens\n",
    "\n",
    "\n",
    "# Create positional encodings\n",
    "def positional_encoding(sequence_length, embedding_dim):\n",
    "    position = np.arange(sequence_length)[:, np.newaxis]\n",
    "    div_term = np.exp(np.arange(0, embedding_dim, 2) * -(np.log(10000.0) / embedding_dim))\n",
    "    pos_enc = np.zeros((sequence_length, embedding_dim))\n",
    "    pos_enc[:, 0::2] = np.sin(position * div_term)\n",
    "    pos_enc[:, 1::2] = np.cos(position * div_term)\n",
    "    return pos_enc\n",
    "\n",
    "\n",
    "def exponential_decay_weighted_sum(vectors, alpha):\n",
    "    n = len(vectors)\n",
    "    weights = [alpha ** i for i in range(n)]\n",
    "    weighted_sum = np.sum(np.array(weights).reshape(-1, 1) * np.array(vectors), axis=0)\n",
    "    return weighted_sum\n",
    "\n",
    "# Get the positional encodings for the example sentence\n",
    "\n",
    "def phrase_embed(phrase_tokens, model):\n",
    "    sequence_length = len(phrase_tokens)\n",
    "    token_embeddings = [ model.wv[token] for token in phrase_tokens if token in model.wv ]\n",
    "    # pos_encodings = positional_encoding(len(phrase_tokens), model.wv.vector_size)\n",
    "\n",
    "    # final_embeddings = token_embeddings + pos_encodings\n",
    "    # final_embeddings = exponential_decay_weighted_sum(token_embeddings, 0.5)\n",
    "    phrase_embedding = np.mean(token_embeddings, axis=0)\n",
    "    return phrase_embedding\n",
    "\n",
    "def cos_sim(A,B):\n",
    "    return np.dot(A,B)/(norm(A)*norm(B))"
   ]
  },
  {
   "cell_type": "markdown",
   "metadata": {},
   "source": [
    "# compute result \n",
    "\n",
    "Here we tokenize the data, and then for each list of word embeddings, we summarize with a mean of the word embeddings (equal weighting).\n",
    "\n",
    "The resulting embedding gives the embedding of the whole list, which I term to be a phrase embedding.\n",
    "\n",
    "This phrase embedding is generated for an input phrase and also an output phrase, then their similarity is computed with a cosine similarity.\n"
   ]
  },
  {
   "cell_type": "code",
   "execution_count": 10,
   "metadata": {},
   "outputs": [],
   "source": [
    "# compute similarity with tag_name and tag_description\n",
    "df['input'] = df['tag_name'] + '<SEP>' + df['tag_description']\n",
    "# df['input'] = df['tag_description']\n",
    "df['output'] = df['thing'] + '<SEP>' + df['property']\n",
    "\n",
    "tokenized_corpus = tokenize_corpus(df['input'])\n",
    "tokenized_corpus = tokenized_corpus + tokenize_corpus(df['output'])\n",
    "\n",
    "model = Word2Vec(tokenized_corpus, vector_size=100, min_count=1, epochs=20, window=3)\n",
    "\n",
    "input_phrase_embeddings = [ phrase_embed(phrase,model) for phrase in tokenize_corpus(df['input'])]\n",
    "output_phrase_embeddings = [ phrase_embed(phrase,model) for phrase in tokenize_corpus(df['output'])]\n",
    "\n",
    "result_with_name =[]\n",
    "for i in range(len(input_phrase_embeddings)):\n",
    "    result_with_name.append(cos_sim(input_phrase_embeddings[i], output_phrase_embeddings[i]))"
   ]
  },
  {
   "cell_type": "code",
   "execution_count": 11,
   "metadata": {},
   "outputs": [],
   "source": [
    "# compute similarity with tag_description (without tag_name)\n",
    "df['input'] = df['tag_description']\n",
    "df['output'] = df['thing'] + '<SEP>' + df['property']\n",
    "\n",
    "tokenized_corpus = tokenize_corpus(df['input'])\n",
    "tokenized_corpus = tokenized_corpus + tokenize_corpus(df['output'])\n",
    "\n",
    "model = Word2Vec(tokenized_corpus, vector_size=100, min_count=1, epochs=20, window=3)\n",
    "\n",
    "input_phrase_embeddings = [ phrase_embed(phrase,model) for phrase in tokenize_corpus(df['input'])]\n",
    "output_phrase_embeddings = [ phrase_embed(phrase,model) for phrase in tokenize_corpus(df['output'])]\n",
    "\n",
    "result_without_name =[]\n",
    "for i in range(len(input_phrase_embeddings)):\n",
    "    result_without_name.append(cos_sim(input_phrase_embeddings[i], output_phrase_embeddings[i]))"
   ]
  },
  {
   "cell_type": "code",
   "execution_count": 12,
   "metadata": {},
   "outputs": [
    {
     "data": {
      "text/plain": [
       "Text(0.5, 1.0, 'distribution of similarities')"
      ]
     },
     "execution_count": 12,
     "metadata": {},
     "output_type": "execute_result"
    },
    {
     "data": {
      "image/png": "[encoded data removed]",
      "text/plain": [
       "<Figure size 640x480 with 1 Axes>"
      ]
     },
     "metadata": {},
     "output_type": "display_data"
    }
   ],
   "source": [
    "plt.boxplot([result_with_name, result_without_name])\n",
    "plt.title(\"distribution of similarities\")"
   ]
  },
  {
   "cell_type": "code",
   "execution_count": 13,
   "metadata": {},
   "outputs": [
    {
     "data": {
      "text/plain": [
       "Text(0.5, 1.0, 'Similarity between inputs and outputs')"
      ]
     },
     "execution_count": 13,
     "metadata": {},
     "output_type": "execute_result"
    },
    {
     "data": {
      "image/png": "[encoded data removed]",
      "text/plain": [
       "<Figure size 640x480 with 1 Axes>"
      ]
     },
     "metadata": {},
     "output_type": "display_data"
    }
   ],
   "source": [
    "plt.hist(result_with_name, bins=50, edgecolor='black')\n",
    "plt.xlabel(\"similarity\")\n",
    "plt.ylabel(\"counts\")\n",
    "plt.title(\"Similarity between inputs and outputs\")\n"
   ]
  },
  {
   "cell_type": "markdown",
   "metadata": {},
   "source": [
    "# checking individual cases"
   ]
  },
  {
   "cell_type": "code",
   "execution_count": 14,
   "metadata": {},
   "outputs": [
    {
     "name": "stdout",
     "output_type": "stream",
     "text": [
      "GE2 EXH GAS TEMP. CYL OUTLET 9 (TE25_9)  <->  DE2Thing<SEP>Cy9ExhGasOutletTemp\n"
     ]
    }
   ],
   "source": [
    "indices = [index for index, value in enumerate(result_with_name) if result_with_name[index] < 0.2]\n",
    "\n",
    "i = 2\n",
    "print(df['input'][indices[i]], \" <-> \",df['output'][indices[i]])"
   ]
  },
  {
   "cell_type": "code",
   "execution_count": 17,
   "metadata": {},
   "outputs": [
    {
     "name": "stdout",
     "output_type": "stream",
     "text": [
      "NO.1 BALLAST PUMP CURRENT  <->  ElectricEnergyConsumeThing<SEP>BallastPump1_Current\n"
     ]
    }
   ],
   "source": [
    "indices = [index for index, value in enumerate(result_with_name) if (result_with_name[index] > 0.2 and result_with_name[index] < 0.5)]\n",
    "\n",
    "i = 2\n",
    "print(df['input'][indices[i]], \" <-> \",df['output'][indices[i]])"
   ]
  },
  {
   "cell_type": "code",
   "execution_count": 18,
   "metadata": {},
   "outputs": [
    {
     "name": "stdout",
     "output_type": "stream",
     "text": [
      "ENGINE ROOM PRESSURE  <->  ERThing<SEP>AirPress\n"
     ]
    }
   ],
   "source": [
    "indices = [index for index, value in enumerate(result_with_name) if result_with_name[index] <0.8]\n",
    "\n",
    "i = 2\n",
    "print(df['input'][indices[i]], \" <-> \",df['output'][indices[i]])"
   ]
  },
  {
   "cell_type": "code",
   "execution_count": null,
   "metadata": {},
   "outputs": [],
   "source": []
  },
  {
   "cell_type": "code",
   "execution_count": null,
   "metadata": {},
   "outputs": [],
   "source": []
  }
 ],
 "metadata": {
  "kernelspec": {
   "display_name": "Python 3",
   "language": "python",
   "name": "python3"
  },
  "language_info": {
   "codemirror_mode": {
    "name": "ipython",
    "version": 3
   },
   "file_extension": ".py",
   "mimetype": "text/x-python",
   "name": "python",
   "nbconvert_exporter": "python",
   "pygments_lexer": "ipython3",
   "version": "3.10.12"
  }
 },
 "nbformat": 4,
 "nbformat_minor": 2
}
