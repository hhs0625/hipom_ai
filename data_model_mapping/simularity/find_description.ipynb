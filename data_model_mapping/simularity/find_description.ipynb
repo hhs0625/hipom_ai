{
 "cells": [
  {
   "cell_type": "code",
   "execution_count": 5,
   "metadata": {},
   "outputs": [
    {
     "name": "stdout",
     "output_type": "stream",
     "text": [
      "The tag_description with the highest cosine similarity to 'ME T/C 1 RPM' is: 'ME T/C RPM' with a score of 1.0000\n"
     ]
    }
   ],
   "source": [
    "import pandas as pd\n",
    "from sklearn.feature_extraction.text import TfidfVectorizer\n",
    "from sklearn.metrics.pairwise import cosine_similarity\n",
    "\n",
    "# Load the dataset\n",
    "data = pd.read_csv('../select_db/data_mapping_filtered.csv', encoding='ISO-8859-1')\n",
    "\n",
    "# Handle potential NaN values\n",
    "data['tag_description'] = data['tag_description'].fillna('')\n",
    "\n",
    "# Define the specific phrase\n",
    "phrase1 = \"ME1 Turbo Charger 1 RPM\"\n",
    "\n",
    "# Initialize the vectorizer\n",
    "vectorizer = TfidfVectorizer()\n",
    "\n",
    "# Fit and transform the text data\n",
    "# The phrase is included in the fit to ensure vocabulary is built with it\n",
    "tfidf_matrix = vectorizer.fit_transform([phrase1] + data['tag_description'].tolist())\n",
    "\n",
    "# Compute cosine similarity between the phrase and all tag_descriptions\n",
    "# The first vector (0th index) is the phrase1, the rest are tag_descriptions\n",
    "similarity_scores = cosine_similarity(tfidf_matrix[0:1], tfidf_matrix[1:])\n",
    "\n",
    "# Finding the index of the maximum similarity score\n",
    "max_index = similarity_scores.argmax()\n",
    "\n",
    "# Access the tag_description with the highest cosine similarity\n",
    "most_similar_description = data.iloc[max_index]['tag_description']\n",
    "max_similarity_score = similarity_scores[0, max_index]\n",
    "\n",
    "print(f\"The tag_description with the highest cosine similarity to '{phrase1}' is: '{most_similar_description}' with a score of {max_similarity_score:.4f}\")\n"
   ]
  }
 ],
 "metadata": {
  "kernelspec": {
   "display_name": "base",
   "language": "python",
   "name": "python3"
  },
  "language_info": {
   "codemirror_mode": {
    "name": "ipython",
    "version": 3
   },
   "file_extension": ".py",
   "mimetype": "text/x-python",
   "name": "python",
   "nbconvert_exporter": "python",
   "pygments_lexer": "ipython3",
   "version": "3.9.13"
  }
 },
 "nbformat": 4,
 "nbformat_minor": 2
}
